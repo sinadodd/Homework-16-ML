{
 "cells": [
  {
   "cell_type": "markdown",
   "metadata": {},
   "source": [
    "## SVM\n",
    "                        Before CV     After CV\n",
    "       Training Score:  0.85026       0.88777\n",
    "       Testing Score:   0.83898       0.88106\n",
    "\n",
    "                precision    recall  f1-score   support\n",
    "\n",
    "     CANDIDATE       0.85      0.65      0.73       523\n",
    "     CONFIRMED       0.75      0.87      0.81       594\n",
    "     FALSE POS       0.98      1.00      0.99      1069\n",
    "\n",
    "     micro avg       0.88      0.88      0.88      2186\n",
    "     macro avg       0.86      0.84      0.84      2186\n",
    "     weighted avg    0.88      0.88      0.88      2186\n",
    "\n",
    "## Random Forest\n",
    "                        Before CV     After CV\n",
    "       Training Score:  0.99497       1.0\n",
    "       Testing Score:   0.87740       0.89616\n",
    "\n",
    "  \n",
    "                precision    recall  f1-score   support\n",
    "\n",
    "     CANDIDATE       0.84      0.73      0.78       523\n",
    "     CONFIRMED       0.81      0.86      0.83       594\n",
    "     FALSE POS       0.97      1.00      0.98      1069\n",
    "\n",
    "     micro avg       0.90      0.90      0.90      2186\n",
    "     macro avg       0.87      0.86      0.87      2186\n",
    "     weighted avg    0.89      0.90      0.89      2186"
   ]
  },
  {
   "cell_type": "code",
   "execution_count": 1,
   "metadata": {},
   "outputs": [],
   "source": [
    "import pandas as pd"
   ]
  },
  {
   "cell_type": "markdown",
   "metadata": {},
   "source": [
    "# Read the CSV and Perform Basic Data Cleaning"
   ]
  },
  {
   "cell_type": "code",
   "execution_count": 2,
   "metadata": {},
   "outputs": [
    {
     "data": {
      "text/html": [
       "<div>\n",
       "<style scoped>\n",
       "    .dataframe tbody tr th:only-of-type {\n",
       "        vertical-align: middle;\n",
       "    }\n",
       "\n",
       "    .dataframe tbody tr th {\n",
       "        vertical-align: top;\n",
       "    }\n",
       "\n",
       "    .dataframe thead th {\n",
       "        text-align: right;\n",
       "    }\n",
       "</style>\n",
       "<table border=\"1\" class=\"dataframe\">\n",
       "  <thead>\n",
       "    <tr style=\"text-align: right;\">\n",
       "      <th></th>\n",
       "      <th>koi_fpflag_nt</th>\n",
       "      <th>koi_fpflag_ss</th>\n",
       "      <th>koi_fpflag_co</th>\n",
       "      <th>koi_fpflag_ec</th>\n",
       "      <th>koi_period</th>\n",
       "      <th>koi_period_err1</th>\n",
       "      <th>koi_period_err2</th>\n",
       "      <th>koi_time0bk</th>\n",
       "      <th>koi_time0bk_err1</th>\n",
       "      <th>koi_time0bk_err2</th>\n",
       "      <th>...</th>\n",
       "      <th>koi_steff_err2</th>\n",
       "      <th>koi_slogg</th>\n",
       "      <th>koi_slogg_err1</th>\n",
       "      <th>koi_slogg_err2</th>\n",
       "      <th>koi_srad</th>\n",
       "      <th>koi_srad_err1</th>\n",
       "      <th>koi_srad_err2</th>\n",
       "      <th>ra</th>\n",
       "      <th>dec</th>\n",
       "      <th>koi_kepmag</th>\n",
       "    </tr>\n",
       "  </thead>\n",
       "  <tbody>\n",
       "    <tr>\n",
       "      <th>count</th>\n",
       "      <td>8744.000000</td>\n",
       "      <td>8744.000000</td>\n",
       "      <td>8744.000000</td>\n",
       "      <td>8744.000000</td>\n",
       "      <td>8744.000000</td>\n",
       "      <td>8.744000e+03</td>\n",
       "      <td>8.744000e+03</td>\n",
       "      <td>8744.000000</td>\n",
       "      <td>8744.000000</td>\n",
       "      <td>8744.000000</td>\n",
       "      <td>...</td>\n",
       "      <td>8744.000000</td>\n",
       "      <td>8744.000000</td>\n",
       "      <td>8744.000000</td>\n",
       "      <td>8744.000000</td>\n",
       "      <td>8744.000000</td>\n",
       "      <td>8744.000000</td>\n",
       "      <td>8744.000000</td>\n",
       "      <td>8744.000000</td>\n",
       "      <td>8744.000000</td>\n",
       "      <td>8744.000000</td>\n",
       "    </tr>\n",
       "    <tr>\n",
       "      <th>mean</th>\n",
       "      <td>0.157136</td>\n",
       "      <td>0.241194</td>\n",
       "      <td>0.201167</td>\n",
       "      <td>0.125114</td>\n",
       "      <td>56.080618</td>\n",
       "      <td>1.839523e-03</td>\n",
       "      <td>-1.839523e-03</td>\n",
       "      <td>164.563271</td>\n",
       "      <td>0.009300</td>\n",
       "      <td>-0.009300</td>\n",
       "      <td>...</td>\n",
       "      <td>-161.354758</td>\n",
       "      <td>4.310223</td>\n",
       "      <td>0.120733</td>\n",
       "      <td>-0.140411</td>\n",
       "      <td>1.704566</td>\n",
       "      <td>0.352884</td>\n",
       "      <td>-0.379933</td>\n",
       "      <td>292.075061</td>\n",
       "      <td>43.828259</td>\n",
       "      <td>14.273969</td>\n",
       "    </tr>\n",
       "    <tr>\n",
       "      <th>std</th>\n",
       "      <td>0.363950</td>\n",
       "      <td>0.427832</td>\n",
       "      <td>0.400895</td>\n",
       "      <td>0.330867</td>\n",
       "      <td>117.385280</td>\n",
       "      <td>7.276504e-03</td>\n",
       "      <td>7.276504e-03</td>\n",
       "      <td>66.476457</td>\n",
       "      <td>0.021662</td>\n",
       "      <td>0.021662</td>\n",
       "      <td>...</td>\n",
       "      <td>72.986448</td>\n",
       "      <td>0.431557</td>\n",
       "      <td>0.132813</td>\n",
       "      <td>0.082936</td>\n",
       "      <td>5.682429</td>\n",
       "      <td>0.906364</td>\n",
       "      <td>1.810943</td>\n",
       "      <td>4.772918</td>\n",
       "      <td>3.599786</td>\n",
       "      <td>1.343509</td>\n",
       "    </tr>\n",
       "    <tr>\n",
       "      <th>min</th>\n",
       "      <td>0.000000</td>\n",
       "      <td>0.000000</td>\n",
       "      <td>0.000000</td>\n",
       "      <td>0.000000</td>\n",
       "      <td>0.259820</td>\n",
       "      <td>1.100000e-08</td>\n",
       "      <td>-1.568000e-01</td>\n",
       "      <td>120.515914</td>\n",
       "      <td>0.000009</td>\n",
       "      <td>-0.569000</td>\n",
       "      <td>...</td>\n",
       "      <td>-1762.000000</td>\n",
       "      <td>0.047000</td>\n",
       "      <td>0.000000</td>\n",
       "      <td>-1.207000</td>\n",
       "      <td>0.109000</td>\n",
       "      <td>0.000000</td>\n",
       "      <td>-103.825000</td>\n",
       "      <td>279.852720</td>\n",
       "      <td>36.577381</td>\n",
       "      <td>6.966000</td>\n",
       "    </tr>\n",
       "    <tr>\n",
       "      <th>25%</th>\n",
       "      <td>0.000000</td>\n",
       "      <td>0.000000</td>\n",
       "      <td>0.000000</td>\n",
       "      <td>0.000000</td>\n",
       "      <td>2.667824</td>\n",
       "      <td>5.286750e-06</td>\n",
       "      <td>-2.456250e-04</td>\n",
       "      <td>132.729408</td>\n",
       "      <td>0.001200</td>\n",
       "      <td>-0.010000</td>\n",
       "      <td>...</td>\n",
       "      <td>-197.000000</td>\n",
       "      <td>4.215750</td>\n",
       "      <td>0.043000</td>\n",
       "      <td>-0.195000</td>\n",
       "      <td>0.826000</td>\n",
       "      <td>0.125750</td>\n",
       "      <td>-0.247000</td>\n",
       "      <td>288.670237</td>\n",
       "      <td>40.805911</td>\n",
       "      <td>13.474000</td>\n",
       "    </tr>\n",
       "    <tr>\n",
       "      <th>50%</th>\n",
       "      <td>0.000000</td>\n",
       "      <td>0.000000</td>\n",
       "      <td>0.000000</td>\n",
       "      <td>0.000000</td>\n",
       "      <td>8.970985</td>\n",
       "      <td>3.323000e-05</td>\n",
       "      <td>-3.323000e-05</td>\n",
       "      <td>136.910235</td>\n",
       "      <td>0.004020</td>\n",
       "      <td>-0.004020</td>\n",
       "      <td>...</td>\n",
       "      <td>-159.000000</td>\n",
       "      <td>4.439000</td>\n",
       "      <td>0.070000</td>\n",
       "      <td>-0.127000</td>\n",
       "      <td>0.997000</td>\n",
       "      <td>0.246000</td>\n",
       "      <td>-0.111000</td>\n",
       "      <td>292.285005</td>\n",
       "      <td>43.703989</td>\n",
       "      <td>14.534000</td>\n",
       "    </tr>\n",
       "    <tr>\n",
       "      <th>75%</th>\n",
       "      <td>0.000000</td>\n",
       "      <td>0.000000</td>\n",
       "      <td>0.000000</td>\n",
       "      <td>0.000000</td>\n",
       "      <td>34.190033</td>\n",
       "      <td>2.456250e-04</td>\n",
       "      <td>-5.286750e-06</td>\n",
       "      <td>169.975942</td>\n",
       "      <td>0.010000</td>\n",
       "      <td>-0.001200</td>\n",
       "      <td>...</td>\n",
       "      <td>-112.000000</td>\n",
       "      <td>4.544000</td>\n",
       "      <td>0.149000</td>\n",
       "      <td>-0.087000</td>\n",
       "      <td>1.346250</td>\n",
       "      <td>0.356000</td>\n",
       "      <td>-0.069000</td>\n",
       "      <td>295.900510</td>\n",
       "      <td>46.722135</td>\n",
       "      <td>15.318250</td>\n",
       "    </tr>\n",
       "    <tr>\n",
       "      <th>max</th>\n",
       "      <td>1.000000</td>\n",
       "      <td>1.000000</td>\n",
       "      <td>1.000000</td>\n",
       "      <td>1.000000</td>\n",
       "      <td>1071.232624</td>\n",
       "      <td>1.568000e-01</td>\n",
       "      <td>-1.100000e-08</td>\n",
       "      <td>1472.522306</td>\n",
       "      <td>0.569000</td>\n",
       "      <td>-0.000009</td>\n",
       "      <td>...</td>\n",
       "      <td>0.000000</td>\n",
       "      <td>5.364000</td>\n",
       "      <td>1.472000</td>\n",
       "      <td>0.000000</td>\n",
       "      <td>180.013000</td>\n",
       "      <td>33.091000</td>\n",
       "      <td>0.000000</td>\n",
       "      <td>301.720760</td>\n",
       "      <td>52.336010</td>\n",
       "      <td>19.065000</td>\n",
       "    </tr>\n",
       "  </tbody>\n",
       "</table>\n",
       "<p>8 rows × 40 columns</p>\n",
       "</div>"
      ],
      "text/plain": [
       "       koi_fpflag_nt  koi_fpflag_ss  koi_fpflag_co  koi_fpflag_ec  \\\n",
       "count    8744.000000    8744.000000    8744.000000    8744.000000   \n",
       "mean        0.157136       0.241194       0.201167       0.125114   \n",
       "std         0.363950       0.427832       0.400895       0.330867   \n",
       "min         0.000000       0.000000       0.000000       0.000000   \n",
       "25%         0.000000       0.000000       0.000000       0.000000   \n",
       "50%         0.000000       0.000000       0.000000       0.000000   \n",
       "75%         0.000000       0.000000       0.000000       0.000000   \n",
       "max         1.000000       1.000000       1.000000       1.000000   \n",
       "\n",
       "        koi_period  koi_period_err1  koi_period_err2  koi_time0bk  \\\n",
       "count  8744.000000     8.744000e+03     8.744000e+03  8744.000000   \n",
       "mean     56.080618     1.839523e-03    -1.839523e-03   164.563271   \n",
       "std     117.385280     7.276504e-03     7.276504e-03    66.476457   \n",
       "min       0.259820     1.100000e-08    -1.568000e-01   120.515914   \n",
       "25%       2.667824     5.286750e-06    -2.456250e-04   132.729408   \n",
       "50%       8.970985     3.323000e-05    -3.323000e-05   136.910235   \n",
       "75%      34.190033     2.456250e-04    -5.286750e-06   169.975942   \n",
       "max    1071.232624     1.568000e-01    -1.100000e-08  1472.522306   \n",
       "\n",
       "       koi_time0bk_err1  koi_time0bk_err2     ...       koi_steff_err2  \\\n",
       "count       8744.000000       8744.000000     ...          8744.000000   \n",
       "mean           0.009300         -0.009300     ...          -161.354758   \n",
       "std            0.021662          0.021662     ...            72.986448   \n",
       "min            0.000009         -0.569000     ...         -1762.000000   \n",
       "25%            0.001200         -0.010000     ...          -197.000000   \n",
       "50%            0.004020         -0.004020     ...          -159.000000   \n",
       "75%            0.010000         -0.001200     ...          -112.000000   \n",
       "max            0.569000         -0.000009     ...             0.000000   \n",
       "\n",
       "         koi_slogg  koi_slogg_err1  koi_slogg_err2     koi_srad  \\\n",
       "count  8744.000000     8744.000000     8744.000000  8744.000000   \n",
       "mean      4.310223        0.120733       -0.140411     1.704566   \n",
       "std       0.431557        0.132813        0.082936     5.682429   \n",
       "min       0.047000        0.000000       -1.207000     0.109000   \n",
       "25%       4.215750        0.043000       -0.195000     0.826000   \n",
       "50%       4.439000        0.070000       -0.127000     0.997000   \n",
       "75%       4.544000        0.149000       -0.087000     1.346250   \n",
       "max       5.364000        1.472000        0.000000   180.013000   \n",
       "\n",
       "       koi_srad_err1  koi_srad_err2           ra          dec   koi_kepmag  \n",
       "count    8744.000000    8744.000000  8744.000000  8744.000000  8744.000000  \n",
       "mean        0.352884      -0.379933   292.075061    43.828259    14.273969  \n",
       "std         0.906364       1.810943     4.772918     3.599786     1.343509  \n",
       "min         0.000000    -103.825000   279.852720    36.577381     6.966000  \n",
       "25%         0.125750      -0.247000   288.670237    40.805911    13.474000  \n",
       "50%         0.246000      -0.111000   292.285005    43.703989    14.534000  \n",
       "75%         0.356000      -0.069000   295.900510    46.722135    15.318250  \n",
       "max        33.091000       0.000000   301.720760    52.336010    19.065000  \n",
       "\n",
       "[8 rows x 40 columns]"
      ]
     },
     "execution_count": 2,
     "metadata": {},
     "output_type": "execute_result"
    }
   ],
   "source": [
    "df = pd.read_csv(\"cumulative.csv\")\n",
    "df = df.drop(columns=[\"rowid\", \"kepid\", \"kepoi_name\", \"kepler_name\", \"koi_pdisposition\", \"koi_score\", \"koi_tce_delivname\"])\n",
    "# Drop the null columns where all values are null\n",
    "df = df.dropna(axis='columns', how='all')\n",
    "# Drop the null rows\n",
    "df = df.dropna()\n",
    "# df.head()\n",
    "df.describe()"
   ]
  },
  {
   "cell_type": "markdown",
   "metadata": {},
   "source": [
    "# Create a Train Test Split\n",
    "\n",
    "Use `koi_disposition` for the y values"
   ]
  },
  {
   "cell_type": "code",
   "execution_count": 3,
   "metadata": {},
   "outputs": [
    {
     "data": {
      "text/html": [
       "<div>\n",
       "<style scoped>\n",
       "    .dataframe tbody tr th:only-of-type {\n",
       "        vertical-align: middle;\n",
       "    }\n",
       "\n",
       "    .dataframe tbody tr th {\n",
       "        vertical-align: top;\n",
       "    }\n",
       "\n",
       "    .dataframe thead th {\n",
       "        text-align: right;\n",
       "    }\n",
       "</style>\n",
       "<table border=\"1\" class=\"dataframe\">\n",
       "  <thead>\n",
       "    <tr style=\"text-align: right;\">\n",
       "      <th></th>\n",
       "      <th>koi_fpflag_nt</th>\n",
       "      <th>koi_fpflag_ss</th>\n",
       "      <th>koi_fpflag_co</th>\n",
       "      <th>koi_fpflag_ec</th>\n",
       "      <th>koi_period</th>\n",
       "      <th>koi_period_err1</th>\n",
       "      <th>koi_period_err2</th>\n",
       "      <th>koi_time0bk</th>\n",
       "      <th>koi_time0bk_err1</th>\n",
       "      <th>koi_time0bk_err2</th>\n",
       "      <th>...</th>\n",
       "      <th>koi_steff_err2</th>\n",
       "      <th>koi_slogg</th>\n",
       "      <th>koi_slogg_err1</th>\n",
       "      <th>koi_slogg_err2</th>\n",
       "      <th>koi_srad</th>\n",
       "      <th>koi_srad_err1</th>\n",
       "      <th>koi_srad_err2</th>\n",
       "      <th>ra</th>\n",
       "      <th>dec</th>\n",
       "      <th>koi_kepmag</th>\n",
       "    </tr>\n",
       "  </thead>\n",
       "  <tbody>\n",
       "    <tr>\n",
       "      <th>0</th>\n",
       "      <td>0</td>\n",
       "      <td>0</td>\n",
       "      <td>0</td>\n",
       "      <td>0</td>\n",
       "      <td>9.488036</td>\n",
       "      <td>2.775000e-05</td>\n",
       "      <td>-2.775000e-05</td>\n",
       "      <td>170.538750</td>\n",
       "      <td>0.002160</td>\n",
       "      <td>-0.002160</td>\n",
       "      <td>...</td>\n",
       "      <td>-81.0</td>\n",
       "      <td>4.467</td>\n",
       "      <td>0.064</td>\n",
       "      <td>-0.096</td>\n",
       "      <td>0.927</td>\n",
       "      <td>0.105</td>\n",
       "      <td>-0.061</td>\n",
       "      <td>291.93423</td>\n",
       "      <td>48.141651</td>\n",
       "      <td>15.347</td>\n",
       "    </tr>\n",
       "    <tr>\n",
       "      <th>1</th>\n",
       "      <td>0</td>\n",
       "      <td>0</td>\n",
       "      <td>0</td>\n",
       "      <td>0</td>\n",
       "      <td>54.418383</td>\n",
       "      <td>2.479000e-04</td>\n",
       "      <td>-2.479000e-04</td>\n",
       "      <td>162.513840</td>\n",
       "      <td>0.003520</td>\n",
       "      <td>-0.003520</td>\n",
       "      <td>...</td>\n",
       "      <td>-81.0</td>\n",
       "      <td>4.467</td>\n",
       "      <td>0.064</td>\n",
       "      <td>-0.096</td>\n",
       "      <td>0.927</td>\n",
       "      <td>0.105</td>\n",
       "      <td>-0.061</td>\n",
       "      <td>291.93423</td>\n",
       "      <td>48.141651</td>\n",
       "      <td>15.347</td>\n",
       "    </tr>\n",
       "    <tr>\n",
       "      <th>2</th>\n",
       "      <td>0</td>\n",
       "      <td>1</td>\n",
       "      <td>0</td>\n",
       "      <td>0</td>\n",
       "      <td>19.899140</td>\n",
       "      <td>1.494000e-05</td>\n",
       "      <td>-1.494000e-05</td>\n",
       "      <td>175.850252</td>\n",
       "      <td>0.000581</td>\n",
       "      <td>-0.000581</td>\n",
       "      <td>...</td>\n",
       "      <td>-176.0</td>\n",
       "      <td>4.544</td>\n",
       "      <td>0.044</td>\n",
       "      <td>-0.176</td>\n",
       "      <td>0.868</td>\n",
       "      <td>0.233</td>\n",
       "      <td>-0.078</td>\n",
       "      <td>297.00482</td>\n",
       "      <td>48.134129</td>\n",
       "      <td>15.436</td>\n",
       "    </tr>\n",
       "    <tr>\n",
       "      <th>3</th>\n",
       "      <td>0</td>\n",
       "      <td>1</td>\n",
       "      <td>0</td>\n",
       "      <td>0</td>\n",
       "      <td>1.736952</td>\n",
       "      <td>2.630000e-07</td>\n",
       "      <td>-2.630000e-07</td>\n",
       "      <td>170.307565</td>\n",
       "      <td>0.000115</td>\n",
       "      <td>-0.000115</td>\n",
       "      <td>...</td>\n",
       "      <td>-174.0</td>\n",
       "      <td>4.564</td>\n",
       "      <td>0.053</td>\n",
       "      <td>-0.168</td>\n",
       "      <td>0.791</td>\n",
       "      <td>0.201</td>\n",
       "      <td>-0.067</td>\n",
       "      <td>285.53461</td>\n",
       "      <td>48.285210</td>\n",
       "      <td>15.597</td>\n",
       "    </tr>\n",
       "    <tr>\n",
       "      <th>4</th>\n",
       "      <td>0</td>\n",
       "      <td>0</td>\n",
       "      <td>0</td>\n",
       "      <td>0</td>\n",
       "      <td>2.525592</td>\n",
       "      <td>3.761000e-06</td>\n",
       "      <td>-3.761000e-06</td>\n",
       "      <td>171.595550</td>\n",
       "      <td>0.001130</td>\n",
       "      <td>-0.001130</td>\n",
       "      <td>...</td>\n",
       "      <td>-211.0</td>\n",
       "      <td>4.438</td>\n",
       "      <td>0.070</td>\n",
       "      <td>-0.210</td>\n",
       "      <td>1.046</td>\n",
       "      <td>0.334</td>\n",
       "      <td>-0.133</td>\n",
       "      <td>288.75488</td>\n",
       "      <td>48.226200</td>\n",
       "      <td>15.509</td>\n",
       "    </tr>\n",
       "  </tbody>\n",
       "</table>\n",
       "<p>5 rows × 40 columns</p>\n",
       "</div>"
      ],
      "text/plain": [
       "   koi_fpflag_nt  koi_fpflag_ss  koi_fpflag_co  koi_fpflag_ec  koi_period  \\\n",
       "0              0              0              0              0    9.488036   \n",
       "1              0              0              0              0   54.418383   \n",
       "2              0              1              0              0   19.899140   \n",
       "3              0              1              0              0    1.736952   \n",
       "4              0              0              0              0    2.525592   \n",
       "\n",
       "   koi_period_err1  koi_period_err2  koi_time0bk  koi_time0bk_err1  \\\n",
       "0     2.775000e-05    -2.775000e-05   170.538750          0.002160   \n",
       "1     2.479000e-04    -2.479000e-04   162.513840          0.003520   \n",
       "2     1.494000e-05    -1.494000e-05   175.850252          0.000581   \n",
       "3     2.630000e-07    -2.630000e-07   170.307565          0.000115   \n",
       "4     3.761000e-06    -3.761000e-06   171.595550          0.001130   \n",
       "\n",
       "   koi_time0bk_err2     ...      koi_steff_err2  koi_slogg  koi_slogg_err1  \\\n",
       "0         -0.002160     ...               -81.0      4.467           0.064   \n",
       "1         -0.003520     ...               -81.0      4.467           0.064   \n",
       "2         -0.000581     ...              -176.0      4.544           0.044   \n",
       "3         -0.000115     ...              -174.0      4.564           0.053   \n",
       "4         -0.001130     ...              -211.0      4.438           0.070   \n",
       "\n",
       "   koi_slogg_err2  koi_srad  koi_srad_err1  koi_srad_err2         ra  \\\n",
       "0          -0.096     0.927          0.105         -0.061  291.93423   \n",
       "1          -0.096     0.927          0.105         -0.061  291.93423   \n",
       "2          -0.176     0.868          0.233         -0.078  297.00482   \n",
       "3          -0.168     0.791          0.201         -0.067  285.53461   \n",
       "4          -0.210     1.046          0.334         -0.133  288.75488   \n",
       "\n",
       "         dec  koi_kepmag  \n",
       "0  48.141651      15.347  \n",
       "1  48.141651      15.347  \n",
       "2  48.134129      15.436  \n",
       "3  48.285210      15.597  \n",
       "4  48.226200      15.509  \n",
       "\n",
       "[5 rows x 40 columns]"
      ]
     },
     "execution_count": 3,
     "metadata": {},
     "output_type": "execute_result"
    }
   ],
   "source": [
    "target = df[\"koi_disposition\"]\n",
    "data = df.drop(\"koi_disposition\", axis=1)\n",
    "feature_names = data.columns\n",
    "data.head()"
   ]
  },
  {
   "cell_type": "code",
   "execution_count": 4,
   "metadata": {},
   "outputs": [],
   "source": [
    "from sklearn.model_selection import train_test_split\n",
    "X_train, X_test, y_train, y_test = train_test_split(data, target, random_state=42)"
   ]
  },
  {
   "cell_type": "code",
   "execution_count": 5,
   "metadata": {},
   "outputs": [
    {
     "data": {
      "text/html": [
       "<div>\n",
       "<style scoped>\n",
       "    .dataframe tbody tr th:only-of-type {\n",
       "        vertical-align: middle;\n",
       "    }\n",
       "\n",
       "    .dataframe tbody tr th {\n",
       "        vertical-align: top;\n",
       "    }\n",
       "\n",
       "    .dataframe thead th {\n",
       "        text-align: right;\n",
       "    }\n",
       "</style>\n",
       "<table border=\"1\" class=\"dataframe\">\n",
       "  <thead>\n",
       "    <tr style=\"text-align: right;\">\n",
       "      <th></th>\n",
       "      <th>koi_fpflag_nt</th>\n",
       "      <th>koi_fpflag_ss</th>\n",
       "      <th>koi_fpflag_co</th>\n",
       "      <th>koi_fpflag_ec</th>\n",
       "      <th>koi_period</th>\n",
       "      <th>koi_period_err1</th>\n",
       "      <th>koi_period_err2</th>\n",
       "      <th>koi_time0bk</th>\n",
       "      <th>koi_time0bk_err1</th>\n",
       "      <th>koi_time0bk_err2</th>\n",
       "      <th>...</th>\n",
       "      <th>koi_steff_err2</th>\n",
       "      <th>koi_slogg</th>\n",
       "      <th>koi_slogg_err1</th>\n",
       "      <th>koi_slogg_err2</th>\n",
       "      <th>koi_srad</th>\n",
       "      <th>koi_srad_err1</th>\n",
       "      <th>koi_srad_err2</th>\n",
       "      <th>ra</th>\n",
       "      <th>dec</th>\n",
       "      <th>koi_kepmag</th>\n",
       "    </tr>\n",
       "  </thead>\n",
       "  <tbody>\n",
       "    <tr>\n",
       "      <th>8017</th>\n",
       "      <td>0</td>\n",
       "      <td>1</td>\n",
       "      <td>1</td>\n",
       "      <td>0</td>\n",
       "      <td>0.806277</td>\n",
       "      <td>4.947000e-06</td>\n",
       "      <td>-4.947000e-06</td>\n",
       "      <td>131.785670</td>\n",
       "      <td>0.006720</td>\n",
       "      <td>-0.006720</td>\n",
       "      <td>...</td>\n",
       "      <td>-184.0</td>\n",
       "      <td>4.471</td>\n",
       "      <td>0.054</td>\n",
       "      <td>-0.229</td>\n",
       "      <td>0.996</td>\n",
       "      <td>0.324</td>\n",
       "      <td>-0.108</td>\n",
       "      <td>290.81723</td>\n",
       "      <td>38.539120</td>\n",
       "      <td>13.614</td>\n",
       "    </tr>\n",
       "    <tr>\n",
       "      <th>1233</th>\n",
       "      <td>0</td>\n",
       "      <td>1</td>\n",
       "      <td>1</td>\n",
       "      <td>0</td>\n",
       "      <td>3.582077</td>\n",
       "      <td>4.318000e-06</td>\n",
       "      <td>-4.318000e-06</td>\n",
       "      <td>355.515064</td>\n",
       "      <td>0.000864</td>\n",
       "      <td>-0.000864</td>\n",
       "      <td>...</td>\n",
       "      <td>-235.0</td>\n",
       "      <td>4.422</td>\n",
       "      <td>0.090</td>\n",
       "      <td>-0.195</td>\n",
       "      <td>0.993</td>\n",
       "      <td>0.283</td>\n",
       "      <td>-0.131</td>\n",
       "      <td>296.07822</td>\n",
       "      <td>43.136940</td>\n",
       "      <td>15.193</td>\n",
       "    </tr>\n",
       "    <tr>\n",
       "      <th>2592</th>\n",
       "      <td>0</td>\n",
       "      <td>0</td>\n",
       "      <td>0</td>\n",
       "      <td>0</td>\n",
       "      <td>5.060923</td>\n",
       "      <td>2.616000e-05</td>\n",
       "      <td>-2.616000e-05</td>\n",
       "      <td>134.473160</td>\n",
       "      <td>0.004730</td>\n",
       "      <td>-0.004730</td>\n",
       "      <td>...</td>\n",
       "      <td>-112.0</td>\n",
       "      <td>4.492</td>\n",
       "      <td>0.048</td>\n",
       "      <td>-0.112</td>\n",
       "      <td>0.911</td>\n",
       "      <td>0.121</td>\n",
       "      <td>-0.060</td>\n",
       "      <td>289.91742</td>\n",
       "      <td>40.828606</td>\n",
       "      <td>13.346</td>\n",
       "    </tr>\n",
       "    <tr>\n",
       "      <th>4770</th>\n",
       "      <td>0</td>\n",
       "      <td>1</td>\n",
       "      <td>0</td>\n",
       "      <td>1</td>\n",
       "      <td>8.480304</td>\n",
       "      <td>3.320000e-07</td>\n",
       "      <td>-3.320000e-07</td>\n",
       "      <td>135.854534</td>\n",
       "      <td>0.000031</td>\n",
       "      <td>-0.000031</td>\n",
       "      <td>...</td>\n",
       "      <td>-169.0</td>\n",
       "      <td>3.946</td>\n",
       "      <td>0.195</td>\n",
       "      <td>-0.105</td>\n",
       "      <td>2.210</td>\n",
       "      <td>0.375</td>\n",
       "      <td>-0.563</td>\n",
       "      <td>298.80020</td>\n",
       "      <td>46.665539</td>\n",
       "      <td>7.631</td>\n",
       "    </tr>\n",
       "    <tr>\n",
       "      <th>6632</th>\n",
       "      <td>0</td>\n",
       "      <td>0</td>\n",
       "      <td>0</td>\n",
       "      <td>1</td>\n",
       "      <td>4.994716</td>\n",
       "      <td>4.495000e-05</td>\n",
       "      <td>-4.495000e-05</td>\n",
       "      <td>136.183300</td>\n",
       "      <td>0.009500</td>\n",
       "      <td>-0.009500</td>\n",
       "      <td>...</td>\n",
       "      <td>-194.0</td>\n",
       "      <td>3.706</td>\n",
       "      <td>0.320</td>\n",
       "      <td>-0.080</td>\n",
       "      <td>2.830</td>\n",
       "      <td>0.458</td>\n",
       "      <td>-1.068</td>\n",
       "      <td>282.58215</td>\n",
       "      <td>46.815510</td>\n",
       "      <td>13.352</td>\n",
       "    </tr>\n",
       "  </tbody>\n",
       "</table>\n",
       "<p>5 rows × 40 columns</p>\n",
       "</div>"
      ],
      "text/plain": [
       "      koi_fpflag_nt  koi_fpflag_ss  koi_fpflag_co  koi_fpflag_ec  koi_period  \\\n",
       "8017              0              1              1              0    0.806277   \n",
       "1233              0              1              1              0    3.582077   \n",
       "2592              0              0              0              0    5.060923   \n",
       "4770              0              1              0              1    8.480304   \n",
       "6632              0              0              0              1    4.994716   \n",
       "\n",
       "      koi_period_err1  koi_period_err2  koi_time0bk  koi_time0bk_err1  \\\n",
       "8017     4.947000e-06    -4.947000e-06   131.785670          0.006720   \n",
       "1233     4.318000e-06    -4.318000e-06   355.515064          0.000864   \n",
       "2592     2.616000e-05    -2.616000e-05   134.473160          0.004730   \n",
       "4770     3.320000e-07    -3.320000e-07   135.854534          0.000031   \n",
       "6632     4.495000e-05    -4.495000e-05   136.183300          0.009500   \n",
       "\n",
       "      koi_time0bk_err2     ...      koi_steff_err2  koi_slogg  koi_slogg_err1  \\\n",
       "8017         -0.006720     ...              -184.0      4.471           0.054   \n",
       "1233         -0.000864     ...              -235.0      4.422           0.090   \n",
       "2592         -0.004730     ...              -112.0      4.492           0.048   \n",
       "4770         -0.000031     ...              -169.0      3.946           0.195   \n",
       "6632         -0.009500     ...              -194.0      3.706           0.320   \n",
       "\n",
       "      koi_slogg_err2  koi_srad  koi_srad_err1  koi_srad_err2         ra  \\\n",
       "8017          -0.229     0.996          0.324         -0.108  290.81723   \n",
       "1233          -0.195     0.993          0.283         -0.131  296.07822   \n",
       "2592          -0.112     0.911          0.121         -0.060  289.91742   \n",
       "4770          -0.105     2.210          0.375         -0.563  298.80020   \n",
       "6632          -0.080     2.830          0.458         -1.068  282.58215   \n",
       "\n",
       "            dec  koi_kepmag  \n",
       "8017  38.539120      13.614  \n",
       "1233  43.136940      15.193  \n",
       "2592  40.828606      13.346  \n",
       "4770  46.665539       7.631  \n",
       "6632  46.815510      13.352  \n",
       "\n",
       "[5 rows x 40 columns]"
      ]
     },
     "execution_count": 5,
     "metadata": {},
     "output_type": "execute_result"
    }
   ],
   "source": [
    "X_train.head()"
   ]
  },
  {
   "cell_type": "markdown",
   "metadata": {},
   "source": [
    "# Pre-processing\n",
    "\n",
    "Scale the data using the MinMaxScaler"
   ]
  },
  {
   "cell_type": "code",
   "execution_count": 6,
   "metadata": {},
   "outputs": [
    {
     "name": "stderr",
     "output_type": "stream",
     "text": [
      "/anaconda3/lib/python3.7/site-packages/sklearn/preprocessing/data.py:323: DataConversionWarning: Data with input dtype int64, float64 were all converted to float64 by MinMaxScaler.\n",
      "  return self.partial_fit(X, y)\n"
     ]
    }
   ],
   "source": [
    "from sklearn.preprocessing import MinMaxScaler\n",
    "X_minmax = MinMaxScaler().fit(X_train)\n",
    "# y_minmax = MinMaxScaler().fit(y_train)\n",
    "\n",
    "X_train_minmax = X_minmax.transform(X_train)\n",
    "X_test_minmax = X_minmax.transform(X_test)\n",
    "# y_train_minmax = y_minmax.transform(y_train)\n",
    "# y_test_minmax = y_minmax.transform(y_test)"
   ]
  },
  {
   "cell_type": "markdown",
   "metadata": {},
   "source": [
    "# Train the Support Vector Machine"
   ]
  },
  {
   "cell_type": "code",
   "execution_count": 7,
   "metadata": {},
   "outputs": [
    {
     "data": {
      "text/plain": [
       "SVC(C=1.0, cache_size=200, class_weight=None, coef0=0.0,\n",
       "  decision_function_shape='ovr', degree=3, gamma='auto_deprecated',\n",
       "  kernel='linear', max_iter=-1, probability=False, random_state=None,\n",
       "  shrinking=True, tol=0.001, verbose=False)"
      ]
     },
     "execution_count": 7,
     "metadata": {},
     "output_type": "execute_result"
    }
   ],
   "source": [
    "from sklearn.svm import SVC \n",
    "model = SVC(kernel='linear')\n",
    "model.fit(X_train_minmax, y_train)"
   ]
  },
  {
   "cell_type": "code",
   "execution_count": 8,
   "metadata": {},
   "outputs": [
    {
     "name": "stdout",
     "output_type": "stream",
     "text": [
      "Training Data Score: 0.8502592253735896\n",
      "Testing Data Score: 0.838975297346752\n"
     ]
    }
   ],
   "source": [
    "print(f\"Training Data Score: {model.score(X_train_minmax, y_train)}\")\n",
    "print(f\"Testing Data Score: {model.score(X_test_minmax, y_test)}\")\n",
    "# print('Test Acc: %.3f' % model.score(X_test, y_test))"
   ]
  },
  {
   "cell_type": "markdown",
   "metadata": {},
   "source": [
    "# Hyperparameter Tuning\n",
    "\n",
    "Use `GridSearchCV` to tune the `C` and `gamma` parameters"
   ]
  },
  {
   "cell_type": "code",
   "execution_count": 9,
   "metadata": {},
   "outputs": [],
   "source": [
    "# Create the GridSearchCV model\n",
    "from sklearn.model_selection import GridSearchCV\n",
    "param_grid = {'C': [1, 5, 10, 50],\n",
    "              'gamma': [0.0001, 0.0005, 0.001, 0.005]}\n",
    "grid = GridSearchCV(model, param_grid, verbose=3)"
   ]
  },
  {
   "cell_type": "code",
   "execution_count": 10,
   "metadata": {
    "scrolled": true
   },
   "outputs": [
    {
     "name": "stdout",
     "output_type": "stream",
     "text": [
      "Fitting 3 folds for each of 16 candidates, totalling 48 fits\n",
      "[CV] C=1, gamma=0.0001 ...............................................\n"
     ]
    },
    {
     "name": "stderr",
     "output_type": "stream",
     "text": [
      "/anaconda3/lib/python3.7/site-packages/sklearn/model_selection/_split.py:2053: FutureWarning: You should specify a value for 'cv' instead of relying on the default value. The default value will change from 3 to 5 in version 0.22.\n",
      "  warnings.warn(CV_WARNING, FutureWarning)\n",
      "[Parallel(n_jobs=1)]: Using backend SequentialBackend with 1 concurrent workers.\n"
     ]
    },
    {
     "name": "stdout",
     "output_type": "stream",
     "text": [
      "[CV] ....... C=1, gamma=0.0001, score=0.846892138939671, total=   0.3s\n",
      "[CV] C=1, gamma=0.0001 ...............................................\n"
     ]
    },
    {
     "name": "stderr",
     "output_type": "stream",
     "text": [
      "[Parallel(n_jobs=1)]: Done   1 out of   1 | elapsed:    0.6s remaining:    0.0s\n"
     ]
    },
    {
     "name": "stdout",
     "output_type": "stream",
     "text": [
      "[CV] ...... C=1, gamma=0.0001, score=0.8384439359267735, total=   0.3s\n",
      "[CV] C=1, gamma=0.0001 ...............................................\n"
     ]
    },
    {
     "name": "stderr",
     "output_type": "stream",
     "text": [
      "[Parallel(n_jobs=1)]: Done   2 out of   2 | elapsed:    1.1s remaining:    0.0s\n"
     ]
    },
    {
     "name": "stdout",
     "output_type": "stream",
     "text": [
      "[CV] ...... C=1, gamma=0.0001, score=0.8480549199084668, total=   0.3s\n",
      "[CV] C=1, gamma=0.0005 ...............................................\n",
      "[CV] ....... C=1, gamma=0.0005, score=0.846892138939671, total=   0.3s\n",
      "[CV] C=1, gamma=0.0005 ...............................................\n",
      "[CV] ...... C=1, gamma=0.0005, score=0.8384439359267735, total=   0.3s\n",
      "[CV] C=1, gamma=0.0005 ...............................................\n",
      "[CV] ...... C=1, gamma=0.0005, score=0.8480549199084668, total=   0.3s\n",
      "[CV] C=1, gamma=0.001 ................................................\n",
      "[CV] ........ C=1, gamma=0.001, score=0.846892138939671, total=   0.3s\n",
      "[CV] C=1, gamma=0.001 ................................................\n",
      "[CV] ....... C=1, gamma=0.001, score=0.8384439359267735, total=   0.3s\n",
      "[CV] C=1, gamma=0.001 ................................................\n",
      "[CV] ....... C=1, gamma=0.001, score=0.8480549199084668, total=   0.3s\n",
      "[CV] C=1, gamma=0.005 ................................................\n",
      "[CV] ........ C=1, gamma=0.005, score=0.846892138939671, total=   0.3s\n",
      "[CV] C=1, gamma=0.005 ................................................\n",
      "[CV] ....... C=1, gamma=0.005, score=0.8384439359267735, total=   0.3s\n",
      "[CV] C=1, gamma=0.005 ................................................\n",
      "[CV] ....... C=1, gamma=0.005, score=0.8480549199084668, total=   0.3s\n",
      "[CV] C=5, gamma=0.0001 ...............................................\n",
      "[CV] ...... C=5, gamma=0.0001, score=0.8660877513711152, total=   0.3s\n",
      "[CV] C=5, gamma=0.0001 ...............................................\n",
      "[CV] ...... C=5, gamma=0.0001, score=0.8535469107551488, total=   0.3s\n",
      "[CV] C=5, gamma=0.0001 ...............................................\n",
      "[CV] ...... C=5, gamma=0.0001, score=0.8745995423340961, total=   0.3s\n",
      "[CV] C=5, gamma=0.0005 ...............................................\n",
      "[CV] ...... C=5, gamma=0.0005, score=0.8660877513711152, total=   0.4s\n",
      "[CV] C=5, gamma=0.0005 ...............................................\n",
      "[CV] ...... C=5, gamma=0.0005, score=0.8535469107551488, total=   0.3s\n",
      "[CV] C=5, gamma=0.0005 ...............................................\n",
      "[CV] ...... C=5, gamma=0.0005, score=0.8745995423340961, total=   0.3s\n",
      "[CV] C=5, gamma=0.001 ................................................\n",
      "[CV] ....... C=5, gamma=0.001, score=0.8660877513711152, total=   0.3s\n",
      "[CV] C=5, gamma=0.001 ................................................\n",
      "[CV] ....... C=5, gamma=0.001, score=0.8535469107551488, total=   0.3s\n",
      "[CV] C=5, gamma=0.001 ................................................\n",
      "[CV] ....... C=5, gamma=0.001, score=0.8745995423340961, total=   0.3s\n",
      "[CV] C=5, gamma=0.005 ................................................\n",
      "[CV] ....... C=5, gamma=0.005, score=0.8660877513711152, total=   0.3s\n",
      "[CV] C=5, gamma=0.005 ................................................\n",
      "[CV] ....... C=5, gamma=0.005, score=0.8535469107551488, total=   0.3s\n",
      "[CV] C=5, gamma=0.005 ................................................\n",
      "[CV] ....... C=5, gamma=0.005, score=0.8745995423340961, total=   0.3s\n",
      "[CV] C=10, gamma=0.0001 ..............................................\n",
      "[CV] ...... C=10, gamma=0.0001, score=0.870201096892139, total=   0.3s\n",
      "[CV] C=10, gamma=0.0001 ..............................................\n",
      "[CV] ..... C=10, gamma=0.0001, score=0.8649885583524027, total=   0.3s\n",
      "[CV] C=10, gamma=0.0001 ..............................................\n",
      "[CV] ..... C=10, gamma=0.0001, score=0.8791762013729977, total=   0.4s\n",
      "[CV] C=10, gamma=0.0005 ..............................................\n",
      "[CV] ...... C=10, gamma=0.0005, score=0.870201096892139, total=   0.3s\n",
      "[CV] C=10, gamma=0.0005 ..............................................\n",
      "[CV] ..... C=10, gamma=0.0005, score=0.8649885583524027, total=   0.3s\n",
      "[CV] C=10, gamma=0.0005 ..............................................\n",
      "[CV] ..... C=10, gamma=0.0005, score=0.8791762013729977, total=   0.3s\n",
      "[CV] C=10, gamma=0.001 ...............................................\n",
      "[CV] ....... C=10, gamma=0.001, score=0.870201096892139, total=   0.3s\n",
      "[CV] C=10, gamma=0.001 ...............................................\n",
      "[CV] ...... C=10, gamma=0.001, score=0.8649885583524027, total=   0.3s\n",
      "[CV] C=10, gamma=0.001 ...............................................\n",
      "[CV] ...... C=10, gamma=0.001, score=0.8791762013729977, total=   0.3s\n",
      "[CV] C=10, gamma=0.005 ...............................................\n",
      "[CV] ....... C=10, gamma=0.005, score=0.870201096892139, total=   0.3s\n",
      "[CV] C=10, gamma=0.005 ...............................................\n",
      "[CV] ...... C=10, gamma=0.005, score=0.8649885583524027, total=   0.3s\n",
      "[CV] C=10, gamma=0.005 ...............................................\n",
      "[CV] ...... C=10, gamma=0.005, score=0.8791762013729977, total=   0.3s\n",
      "[CV] C=50, gamma=0.0001 ..............................................\n",
      "[CV] ..... C=50, gamma=0.0001, score=0.8820840950639853, total=   0.4s\n",
      "[CV] C=50, gamma=0.0001 ..............................................\n",
      "[CV] ..... C=50, gamma=0.0001, score=0.8695652173913043, total=   0.3s\n",
      "[CV] C=50, gamma=0.0001 ..............................................\n",
      "[CV] ..... C=50, gamma=0.0001, score=0.8956521739130435, total=   0.4s\n",
      "[CV] C=50, gamma=0.0005 ..............................................\n",
      "[CV] ..... C=50, gamma=0.0005, score=0.8820840950639853, total=   0.4s\n",
      "[CV] C=50, gamma=0.0005 ..............................................\n",
      "[CV] ..... C=50, gamma=0.0005, score=0.8695652173913043, total=   0.4s\n",
      "[CV] C=50, gamma=0.0005 ..............................................\n",
      "[CV] ..... C=50, gamma=0.0005, score=0.8956521739130435, total=   0.4s\n",
      "[CV] C=50, gamma=0.001 ...............................................\n",
      "[CV] ...... C=50, gamma=0.001, score=0.8820840950639853, total=   0.4s\n",
      "[CV] C=50, gamma=0.001 ...............................................\n",
      "[CV] ...... C=50, gamma=0.001, score=0.8695652173913043, total=   0.3s\n",
      "[CV] C=50, gamma=0.001 ...............................................\n",
      "[CV] ...... C=50, gamma=0.001, score=0.8956521739130435, total=   0.4s\n",
      "[CV] C=50, gamma=0.005 ...............................................\n",
      "[CV] ...... C=50, gamma=0.005, score=0.8820840950639853, total=   0.4s\n",
      "[CV] C=50, gamma=0.005 ...............................................\n",
      "[CV] ...... C=50, gamma=0.005, score=0.8695652173913043, total=   0.4s\n",
      "[CV] C=50, gamma=0.005 ...............................................\n",
      "[CV] ...... C=50, gamma=0.005, score=0.8956521739130435, total=   0.4s\n"
     ]
    },
    {
     "name": "stderr",
     "output_type": "stream",
     "text": [
      "[Parallel(n_jobs=1)]: Done  48 out of  48 | elapsed:   25.6s finished\n"
     ]
    },
    {
     "data": {
      "text/plain": [
       "GridSearchCV(cv='warn', error_score='raise-deprecating',\n",
       "       estimator=SVC(C=1.0, cache_size=200, class_weight=None, coef0=0.0,\n",
       "  decision_function_shape='ovr', degree=3, gamma='auto_deprecated',\n",
       "  kernel='linear', max_iter=-1, probability=False, random_state=None,\n",
       "  shrinking=True, tol=0.001, verbose=False),\n",
       "       fit_params=None, iid='warn', n_jobs=None,\n",
       "       param_grid={'C': [1, 5, 10, 50], 'gamma': [0.0001, 0.0005, 0.001, 0.005]},\n",
       "       pre_dispatch='2*n_jobs', refit=True, return_train_score='warn',\n",
       "       scoring=None, verbose=3)"
      ]
     },
     "execution_count": 10,
     "metadata": {},
     "output_type": "execute_result"
    }
   ],
   "source": [
    "# Train the model with GridSearch\n",
    "grid.fit(X_train_minmax, y_train)"
   ]
  },
  {
   "cell_type": "code",
   "execution_count": 11,
   "metadata": {},
   "outputs": [
    {
     "name": "stdout",
     "output_type": "stream",
     "text": [
      "{'C': 50, 'gamma': 0.0001}\n",
      "0.8824336688014639\n"
     ]
    }
   ],
   "source": [
    "print(grid.best_params_)\n",
    "print(grid.best_score_)"
   ]
  },
  {
   "cell_type": "code",
   "execution_count": 12,
   "metadata": {},
   "outputs": [
    {
     "data": {
      "text/plain": [
       "0.8877706617871303"
      ]
     },
     "execution_count": 12,
     "metadata": {},
     "output_type": "execute_result"
    }
   ],
   "source": [
    "grid.score(X_train_minmax, y_train)"
   ]
  },
  {
   "cell_type": "code",
   "execution_count": 13,
   "metadata": {},
   "outputs": [
    {
     "data": {
      "text/plain": [
       "0.8810612991765783"
      ]
     },
     "execution_count": 13,
     "metadata": {},
     "output_type": "execute_result"
    }
   ],
   "source": [
    "grid.score(X_test_minmax, y_test)"
   ]
  },
  {
   "cell_type": "code",
   "execution_count": 14,
   "metadata": {},
   "outputs": [],
   "source": [
    "predictions = grid.predict(X_test_minmax)"
   ]
  },
  {
   "cell_type": "code",
   "execution_count": 15,
   "metadata": {},
   "outputs": [
    {
     "name": "stdout",
     "output_type": "stream",
     "text": [
      "                precision    recall  f1-score   support\n",
      "\n",
      "     CANDIDATE       0.85      0.65      0.73       523\n",
      "     CONFIRMED       0.75      0.87      0.81       594\n",
      "FALSE POSITIVE       0.98      1.00      0.99      1069\n",
      "\n",
      "     micro avg       0.88      0.88      0.88      2186\n",
      "     macro avg       0.86      0.84      0.84      2186\n",
      "  weighted avg       0.88      0.88      0.88      2186\n",
      "\n"
     ]
    }
   ],
   "source": [
    "from sklearn.metrics import classification_report\n",
    "print(classification_report(y_test, predictions))"
   ]
  },
  {
   "cell_type": "markdown",
   "metadata": {},
   "source": [
    "# Random Forest"
   ]
  },
  {
   "cell_type": "code",
   "execution_count": 16,
   "metadata": {},
   "outputs": [
    {
     "name": "stderr",
     "output_type": "stream",
     "text": [
      "/anaconda3/lib/python3.7/site-packages/sklearn/ensemble/forest.py:246: FutureWarning: The default value of n_estimators will change from 10 in version 0.20 to 100 in 0.22.\n",
      "  \"10 in version 0.20 to 100 in 0.22.\", FutureWarning)\n"
     ]
    },
    {
     "name": "stdout",
     "output_type": "stream",
     "text": [
      "0.994967978042086\n",
      "0.8774016468435498\n"
     ]
    }
   ],
   "source": [
    "from sklearn.ensemble import RandomForestClassifier\n",
    "rf = RandomForestClassifier()\n",
    "rf = rf.fit(X_train_minmax, y_train)\n",
    "print(rf.score(X_train_minmax, y_train))\n",
    "print(rf.score(X_test_minmax, y_test))"
   ]
  },
  {
   "cell_type": "code",
   "execution_count": 17,
   "metadata": {
    "scrolled": true
   },
   "outputs": [
    {
     "data": {
      "text/plain": [
       "[(0.11741799834178808, 'koi_fpflag_co'),\n",
       " (0.08111972015401982, 'koi_fpflag_nt'),\n",
       " (0.06388975376868553, 'koi_prad'),\n",
       " (0.05388501700451346, 'koi_fpflag_ss'),\n",
       " (0.05211873399229984, 'koi_model_snr'),\n",
       " (0.0500684793913244, 'koi_duration_err1'),\n",
       " (0.04689897342776127, 'koi_fpflag_ec'),\n",
       " (0.045573516329538946, 'koi_duration_err2'),\n",
       " (0.04001359444738137, 'koi_depth'),\n",
       " (0.026934364707184837, 'koi_impact'),\n",
       " (0.026642909511897732, 'koi_steff_err2'),\n",
       " (0.02612458198293714, 'koi_duration'),\n",
       " (0.025280195223127466, 'koi_prad_err1'),\n",
       " (0.022738130814527892, 'koi_period'),\n",
       " (0.022651842191170495, 'koi_depth_err2'),\n",
       " (0.019277151280475625, 'koi_time0bk_err2'),\n",
       " (0.01897108559673557, 'koi_insol_err1'),\n",
       " (0.018640241262357436, 'koi_teq'),\n",
       " (0.014977317872848098, 'koi_time0bk_err1'),\n",
       " (0.014896666665169377, 'koi_period_err1'),\n",
       " (0.014173296843137706, 'koi_steff_err1'),\n",
       " (0.01412256909958618, 'koi_prad_err2'),\n",
       " (0.013419308496726876, 'koi_time0bk'),\n",
       " (0.013303459383466979, 'koi_insol'),\n",
       " (0.013176361058547423, 'koi_period_err2'),\n",
       " (0.012256677315130842, 'koi_slogg_err2'),\n",
       " (0.011587372486374724, 'dec'),\n",
       " (0.01157450053856052, 'ra'),\n",
       " (0.01153270724371175, 'koi_steff'),\n",
       " (0.01148005490792041, 'koi_impact_err1'),\n",
       " (0.01078699874077203, 'koi_impact_err2'),\n",
       " (0.010675993551274769, 'koi_depth_err1'),\n",
       " (0.009746308463832941, 'koi_srad'),\n",
       " (0.009446957640731609, 'koi_kepmag'),\n",
       " (0.009238397415253561, 'koi_slogg_err1'),\n",
       " (0.00880767321684008, 'koi_srad_err1'),\n",
       " (0.008277235277793837, 'koi_insol_err2'),\n",
       " (0.00802702487304194, 'koi_srad_err2'),\n",
       " (0.00787947945742867, 'koi_slogg'),\n",
       " (0.0023673500241227796, 'koi_tce_plnt_num')]"
      ]
     },
     "execution_count": 17,
     "metadata": {},
     "output_type": "execute_result"
    }
   ],
   "source": [
    "sorted(zip(rf.feature_importances_, feature_names), reverse=True)"
   ]
  },
  {
   "cell_type": "code",
   "execution_count": 46,
   "metadata": {},
   "outputs": [],
   "source": [
    "param_grid2 = {'n_estimators': [250, 300, 350],\n",
    "              'max_depth': [125, 150, 175]}\n",
    "grid2 = GridSearchCV(rf, param_grid2, verbose=3)"
   ]
  },
  {
   "cell_type": "code",
   "execution_count": 47,
   "metadata": {
    "scrolled": true
   },
   "outputs": [
    {
     "name": "stderr",
     "output_type": "stream",
     "text": [
      "/anaconda3/lib/python3.7/site-packages/sklearn/model_selection/_split.py:2053: FutureWarning: You should specify a value for 'cv' instead of relying on the default value. The default value will change from 3 to 5 in version 0.22.\n",
      "  warnings.warn(CV_WARNING, FutureWarning)\n",
      "[Parallel(n_jobs=1)]: Using backend SequentialBackend with 1 concurrent workers.\n"
     ]
    },
    {
     "name": "stdout",
     "output_type": "stream",
     "text": [
      "Fitting 3 folds for each of 9 candidates, totalling 27 fits\n",
      "[CV] max_depth=125, n_estimators=250 .................................\n",
      "[CV]  max_depth=125, n_estimators=250, score=0.8912248628884827, total=   3.0s\n",
      "[CV] max_depth=125, n_estimators=250 .................................\n"
     ]
    },
    {
     "name": "stderr",
     "output_type": "stream",
     "text": [
      "[Parallel(n_jobs=1)]: Done   1 out of   1 | elapsed:    3.1s remaining:    0.0s\n"
     ]
    },
    {
     "name": "stdout",
     "output_type": "stream",
     "text": [
      "[CV]  max_depth=125, n_estimators=250, score=0.8851258581235698, total=   2.9s\n",
      "[CV] max_depth=125, n_estimators=250 .................................\n"
     ]
    },
    {
     "name": "stderr",
     "output_type": "stream",
     "text": [
      "[Parallel(n_jobs=1)]: Done   2 out of   2 | elapsed:    6.1s remaining:    0.0s\n"
     ]
    },
    {
     "name": "stdout",
     "output_type": "stream",
     "text": [
      "[CV]  max_depth=125, n_estimators=250, score=0.8956521739130435, total=   2.9s\n",
      "[CV] max_depth=125, n_estimators=300 .................................\n",
      "[CV]  max_depth=125, n_estimators=300, score=0.8930530164533821, total=   3.5s\n",
      "[CV] max_depth=125, n_estimators=300 .................................\n",
      "[CV]  max_depth=125, n_estimators=300, score=0.8860411899313501, total=   3.4s\n",
      "[CV] max_depth=125, n_estimators=300 .................................\n",
      "[CV]  max_depth=125, n_estimators=300, score=0.8965675057208238, total=   3.5s\n",
      "[CV] max_depth=125, n_estimators=350 .................................\n",
      "[CV]  max_depth=125, n_estimators=350, score=0.8939670932358318, total=   4.1s\n",
      "[CV] max_depth=125, n_estimators=350 .................................\n",
      "[CV]  max_depth=125, n_estimators=350, score=0.8846681922196796, total=   4.0s\n",
      "[CV] max_depth=125, n_estimators=350 .................................\n",
      "[CV]  max_depth=125, n_estimators=350, score=0.9006864988558353, total=   4.0s\n",
      "[CV] max_depth=150, n_estimators=250 .................................\n",
      "[CV]  max_depth=150, n_estimators=250, score=0.8925959780621572, total=   2.9s\n",
      "[CV] max_depth=150, n_estimators=250 .................................\n",
      "[CV]  max_depth=150, n_estimators=250, score=0.88558352402746, total=   2.9s\n",
      "[CV] max_depth=150, n_estimators=250 .................................\n",
      "[CV]  max_depth=150, n_estimators=250, score=0.8974828375286041, total=   2.9s\n",
      "[CV] max_depth=150, n_estimators=300 .................................\n",
      "[CV]  max_depth=150, n_estimators=300, score=0.8925959780621572, total=   3.5s\n",
      "[CV] max_depth=150, n_estimators=300 .................................\n",
      "[CV]  max_depth=150, n_estimators=300, score=0.8851258581235698, total=   3.4s\n",
      "[CV] max_depth=150, n_estimators=300 .................................\n",
      "[CV]  max_depth=150, n_estimators=300, score=0.8974828375286041, total=   3.5s\n",
      "[CV] max_depth=150, n_estimators=350 .................................\n",
      "[CV]  max_depth=150, n_estimators=350, score=0.8939670932358318, total=   4.1s\n",
      "[CV] max_depth=150, n_estimators=350 .................................\n",
      "[CV]  max_depth=150, n_estimators=350, score=0.8837528604118993, total=   4.0s\n",
      "[CV] max_depth=150, n_estimators=350 .................................\n",
      "[CV]  max_depth=150, n_estimators=350, score=0.8993135011441648, total=   4.0s\n",
      "[CV] max_depth=175, n_estimators=250 .................................\n",
      "[CV]  max_depth=175, n_estimators=250, score=0.8944241316270567, total=   2.9s\n",
      "[CV] max_depth=175, n_estimators=250 .................................\n",
      "[CV]  max_depth=175, n_estimators=250, score=0.8842105263157894, total=   2.9s\n",
      "[CV] max_depth=175, n_estimators=250 .................................\n",
      "[CV]  max_depth=175, n_estimators=250, score=0.8983981693363844, total=   2.9s\n",
      "[CV] max_depth=175, n_estimators=300 .................................\n",
      "[CV]  max_depth=175, n_estimators=300, score=0.8930530164533821, total=   3.5s\n",
      "[CV] max_depth=175, n_estimators=300 .................................\n",
      "[CV]  max_depth=175, n_estimators=300, score=0.8860411899313501, total=   3.4s\n",
      "[CV] max_depth=175, n_estimators=300 .................................\n",
      "[CV]  max_depth=175, n_estimators=300, score=0.8988558352402746, total=   3.5s\n",
      "[CV] max_depth=175, n_estimators=350 .................................\n",
      "[CV]  max_depth=175, n_estimators=350, score=0.8916819012797075, total=   4.1s\n",
      "[CV] max_depth=175, n_estimators=350 .................................\n",
      "[CV]  max_depth=175, n_estimators=350, score=0.8819221967963387, total=   4.0s\n",
      "[CV] max_depth=175, n_estimators=350 .................................\n",
      "[CV]  max_depth=175, n_estimators=350, score=0.8974828375286041, total=   4.1s\n"
     ]
    },
    {
     "name": "stderr",
     "output_type": "stream",
     "text": [
      "[Parallel(n_jobs=1)]: Done  27 out of  27 | elapsed:  1.6min finished\n"
     ]
    },
    {
     "data": {
      "text/plain": [
       "GridSearchCV(cv='warn', error_score='raise-deprecating',\n",
       "       estimator=RandomForestClassifier(bootstrap=True, class_weight=None, criterion='gini',\n",
       "            max_depth=None, max_features='auto', max_leaf_nodes=None,\n",
       "            min_impurity_decrease=0.0, min_impurity_split=None,\n",
       "            min_samples_leaf=1, min_samples_split=2,\n",
       "            min_weight_fraction_leaf=0.0, n_estimators=10, n_jobs=None,\n",
       "            oob_score=False, random_state=None, verbose=0,\n",
       "            warm_start=False),\n",
       "       fit_params=None, iid='warn', n_jobs=None,\n",
       "       param_grid={'n_estimators': [250, 300, 350], 'max_depth': [125, 150, 175]},\n",
       "       pre_dispatch='2*n_jobs', refit=True, return_train_score='warn',\n",
       "       scoring=None, verbose=3)"
      ]
     },
     "execution_count": 47,
     "metadata": {},
     "output_type": "execute_result"
    }
   ],
   "source": [
    "grid2.fit(X_train_minmax, y_train)"
   ]
  },
  {
   "cell_type": "code",
   "execution_count": 48,
   "metadata": {
    "scrolled": true
   },
   "outputs": [
    {
     "name": "stdout",
     "output_type": "stream",
     "text": [
      "{'max_depth': 125, 'n_estimators': 350}\n",
      "0.8931076547727966\n"
     ]
    }
   ],
   "source": [
    "print(grid2.best_params_)\n",
    "print(grid2.best_score_)"
   ]
  },
  {
   "cell_type": "code",
   "execution_count": 49,
   "metadata": {},
   "outputs": [
    {
     "data": {
      "text/plain": [
       "1.0"
      ]
     },
     "execution_count": 49,
     "metadata": {},
     "output_type": "execute_result"
    }
   ],
   "source": [
    "grid2.score(X_train_minmax, y_train)"
   ]
  },
  {
   "cell_type": "code",
   "execution_count": 50,
   "metadata": {},
   "outputs": [
    {
     "data": {
      "text/plain": [
       "0.8961573650503202"
      ]
     },
     "execution_count": 50,
     "metadata": {},
     "output_type": "execute_result"
    }
   ],
   "source": [
    "grid2.score(X_test_minmax, y_test)"
   ]
  },
  {
   "cell_type": "code",
   "execution_count": 51,
   "metadata": {},
   "outputs": [],
   "source": [
    "predictions2 = grid2.predict(X_test_minmax)"
   ]
  },
  {
   "cell_type": "code",
   "execution_count": 52,
   "metadata": {},
   "outputs": [
    {
     "name": "stdout",
     "output_type": "stream",
     "text": [
      "                precision    recall  f1-score   support\n",
      "\n",
      "     CANDIDATE       0.84      0.73      0.78       523\n",
      "     CONFIRMED       0.81      0.86      0.83       594\n",
      "FALSE POSITIVE       0.97      1.00      0.98      1069\n",
      "\n",
      "     micro avg       0.90      0.90      0.90      2186\n",
      "     macro avg       0.87      0.86      0.87      2186\n",
      "  weighted avg       0.89      0.90      0.89      2186\n",
      "\n"
     ]
    }
   ],
   "source": [
    "from sklearn.metrics import classification_report\n",
    "print(classification_report(y_test, predictions2))"
   ]
  },
  {
   "cell_type": "code",
   "execution_count": null,
   "metadata": {},
   "outputs": [],
   "source": []
  }
 ],
 "metadata": {
  "kernel_info": {
   "name": "dev"
  },
  "kernelspec": {
   "display_name": "Python 3",
   "language": "python",
   "name": "python3"
  },
  "language_info": {
   "codemirror_mode": {
    "name": "ipython",
    "version": 3
   },
   "file_extension": ".py",
   "mimetype": "text/x-python",
   "name": "python",
   "nbconvert_exporter": "python",
   "pygments_lexer": "ipython3",
   "version": "3.7.3"
  },
  "nteract": {
   "version": "0.12.3"
  }
 },
 "nbformat": 4,
 "nbformat_minor": 2
}
